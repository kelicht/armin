{
 "cells": [
  {
   "cell_type": "markdown",
   "metadata": {},
   "source": [
    "# Demonstration: Algorithmic Recourse with Multiple Imputation (ARMIN)"
   ]
  },
  {
   "cell_type": "code",
   "execution_count": 1,
   "metadata": {},
   "outputs": [],
   "source": [
    "import numpy as np\n",
    "import pandas as pd\n",
    "import matplotlib.pyplot as plt\n",
    "np.random.seed(0)"
   ]
  },
  {
   "cell_type": "markdown",
   "metadata": {},
   "source": [
    "## 1. Dataset and Classifier"
   ]
  },
  {
   "cell_type": "code",
   "execution_count": 2,
   "metadata": {},
   "outputs": [
    {
     "data": {
      "text/html": [
       "<div>\n",
       "<style scoped>\n",
       "    .dataframe tbody tr th:only-of-type {\n",
       "        vertical-align: middle;\n",
       "    }\n",
       "\n",
       "    .dataframe tbody tr th {\n",
       "        vertical-align: top;\n",
       "    }\n",
       "\n",
       "    .dataframe thead th {\n",
       "        text-align: right;\n",
       "    }\n",
       "</style>\n",
       "<table border=\"1\" class=\"dataframe\">\n",
       "  <thead>\n",
       "    <tr style=\"text-align: right;\">\n",
       "      <th></th>\n",
       "      <th>Feature</th>\n",
       "      <th>Type</th>\n",
       "      <th>Min</th>\n",
       "      <th>Max</th>\n",
       "      <th>Immutable</th>\n",
       "      <th>Constraint</th>\n",
       "    </tr>\n",
       "  </thead>\n",
       "  <tbody>\n",
       "    <tr>\n",
       "      <th>0</th>\n",
       "      <td>RevolvingUtilizationOfUnsecuredLines</td>\n",
       "      <td>Real</td>\n",
       "      <td>0.0</td>\n",
       "      <td>1.246275e+01</td>\n",
       "      <td>No</td>\n",
       "      <td>Nothing</td>\n",
       "    </tr>\n",
       "    <tr>\n",
       "      <th>1</th>\n",
       "      <td>age</td>\n",
       "      <td>Integer</td>\n",
       "      <td>0.0</td>\n",
       "      <td>1.030000e+02</td>\n",
       "      <td>Yes</td>\n",
       "      <td>Fix</td>\n",
       "    </tr>\n",
       "    <tr>\n",
       "      <th>2</th>\n",
       "      <td>NumberOfTime30-59DaysPastDueNotWorse</td>\n",
       "      <td>Integer</td>\n",
       "      <td>0.0</td>\n",
       "      <td>1.300000e+01</td>\n",
       "      <td>No</td>\n",
       "      <td>Nothing</td>\n",
       "    </tr>\n",
       "    <tr>\n",
       "      <th>3</th>\n",
       "      <td>DebtRatio</td>\n",
       "      <td>Real</td>\n",
       "      <td>0.0</td>\n",
       "      <td>3.488000e+03</td>\n",
       "      <td>No</td>\n",
       "      <td>Nothing</td>\n",
       "    </tr>\n",
       "    <tr>\n",
       "      <th>4</th>\n",
       "      <td>MonthlyIncome</td>\n",
       "      <td>Integer</td>\n",
       "      <td>0.0</td>\n",
       "      <td>3.008750e+06</td>\n",
       "      <td>No</td>\n",
       "      <td>Nothing</td>\n",
       "    </tr>\n",
       "    <tr>\n",
       "      <th>5</th>\n",
       "      <td>NumberOfOpenCreditLinesAndLoans</td>\n",
       "      <td>Integer</td>\n",
       "      <td>0.0</td>\n",
       "      <td>5.800000e+01</td>\n",
       "      <td>No</td>\n",
       "      <td>Nothing</td>\n",
       "    </tr>\n",
       "    <tr>\n",
       "      <th>6</th>\n",
       "      <td>NumberOfTimes90DaysLate</td>\n",
       "      <td>Integer</td>\n",
       "      <td>0.0</td>\n",
       "      <td>1.700000e+01</td>\n",
       "      <td>No</td>\n",
       "      <td>Nothing</td>\n",
       "    </tr>\n",
       "    <tr>\n",
       "      <th>7</th>\n",
       "      <td>NumberRealEstateLoansOrLines</td>\n",
       "      <td>Integer</td>\n",
       "      <td>0.0</td>\n",
       "      <td>5.400000e+01</td>\n",
       "      <td>No</td>\n",
       "      <td>Nothing</td>\n",
       "    </tr>\n",
       "    <tr>\n",
       "      <th>8</th>\n",
       "      <td>NumberOfTime60-89DaysPastDueNotWorse</td>\n",
       "      <td>Integer</td>\n",
       "      <td>0.0</td>\n",
       "      <td>1.100000e+01</td>\n",
       "      <td>No</td>\n",
       "      <td>Nothing</td>\n",
       "    </tr>\n",
       "    <tr>\n",
       "      <th>9</th>\n",
       "      <td>NumberOfDependents</td>\n",
       "      <td>Integer</td>\n",
       "      <td>0.0</td>\n",
       "      <td>2.000000e+01</td>\n",
       "      <td>Yes</td>\n",
       "      <td>Fix</td>\n",
       "    </tr>\n",
       "  </tbody>\n",
       "</table>\n",
       "</div>"
      ],
      "text/plain": [
       "                                Feature     Type  Min           Max Immutable  \\\n",
       "0  RevolvingUtilizationOfUnsecuredLines     Real  0.0  1.246275e+01        No   \n",
       "1                                   age  Integer  0.0  1.030000e+02       Yes   \n",
       "2  NumberOfTime30-59DaysPastDueNotWorse  Integer  0.0  1.300000e+01        No   \n",
       "3                             DebtRatio     Real  0.0  3.488000e+03        No   \n",
       "4                         MonthlyIncome  Integer  0.0  3.008750e+06        No   \n",
       "5       NumberOfOpenCreditLinesAndLoans  Integer  0.0  5.800000e+01        No   \n",
       "6               NumberOfTimes90DaysLate  Integer  0.0  1.700000e+01        No   \n",
       "7          NumberRealEstateLoansOrLines  Integer  0.0  5.400000e+01        No   \n",
       "8  NumberOfTime60-89DaysPastDueNotWorse  Integer  0.0  1.100000e+01        No   \n",
       "9                    NumberOfDependents  Integer  0.0  2.000000e+01       Yes   \n",
       "\n",
       "  Constraint  \n",
       "0    Nothing  \n",
       "1        Fix  \n",
       "2    Nothing  \n",
       "3    Nothing  \n",
       "4    Nothing  \n",
       "5    Nothing  \n",
       "6    Nothing  \n",
       "7    Nothing  \n",
       "8    Nothing  \n",
       "9        Fix  "
      ]
     },
     "execution_count": 2,
     "metadata": {},
     "output_type": "execute_result"
    }
   ],
   "source": [
    "from datasets import Dataset\n",
    "\n",
    "D = Dataset()\n",
    "X_tr, X_ts, y_tr, y_ts = D.get_dataset(split=True)\n",
    "\n",
    "D.get_details()"
   ]
  },
  {
   "cell_type": "code",
   "execution_count": 3,
   "metadata": {},
   "outputs": [
    {
     "name": "stdout",
     "output_type": "stream",
     "text": [
      "Accuracy: 93.40%\n"
     ]
    },
    {
     "data": {
      "text/html": [
       "<div>\n",
       "<style scoped>\n",
       "    .dataframe tbody tr th:only-of-type {\n",
       "        vertical-align: middle;\n",
       "    }\n",
       "\n",
       "    .dataframe tbody tr th {\n",
       "        vertical-align: top;\n",
       "    }\n",
       "\n",
       "    .dataframe thead th {\n",
       "        text-align: right;\n",
       "    }\n",
       "</style>\n",
       "<table border=\"1\" class=\"dataframe\">\n",
       "  <thead>\n",
       "    <tr style=\"text-align: right;\">\n",
       "      <th></th>\n",
       "      <th>Feature</th>\n",
       "      <th>Coefficient</th>\n",
       "    </tr>\n",
       "  </thead>\n",
       "  <tbody>\n",
       "    <tr>\n",
       "      <th>0</th>\n",
       "      <td>RevolvingUtilizationOfUnsecuredLines</td>\n",
       "      <td>1.343918</td>\n",
       "    </tr>\n",
       "    <tr>\n",
       "      <th>1</th>\n",
       "      <td>age</td>\n",
       "      <td>-0.028888</td>\n",
       "    </tr>\n",
       "    <tr>\n",
       "      <th>2</th>\n",
       "      <td>NumberOfTime30-59DaysPastDueNotWorse</td>\n",
       "      <td>0.443853</td>\n",
       "    </tr>\n",
       "    <tr>\n",
       "      <th>3</th>\n",
       "      <td>DebtRatio</td>\n",
       "      <td>-0.000522</td>\n",
       "    </tr>\n",
       "    <tr>\n",
       "      <th>4</th>\n",
       "      <td>MonthlyIncome</td>\n",
       "      <td>-0.000041</td>\n",
       "    </tr>\n",
       "    <tr>\n",
       "      <th>5</th>\n",
       "      <td>NumberOfOpenCreditLinesAndLoans</td>\n",
       "      <td>0.016817</td>\n",
       "    </tr>\n",
       "    <tr>\n",
       "      <th>6</th>\n",
       "      <td>NumberOfTimes90DaysLate</td>\n",
       "      <td>0.720687</td>\n",
       "    </tr>\n",
       "    <tr>\n",
       "      <th>7</th>\n",
       "      <td>NumberRealEstateLoansOrLines</td>\n",
       "      <td>0.131350</td>\n",
       "    </tr>\n",
       "    <tr>\n",
       "      <th>8</th>\n",
       "      <td>NumberOfTime60-89DaysPastDueNotWorse</td>\n",
       "      <td>0.593074</td>\n",
       "    </tr>\n",
       "    <tr>\n",
       "      <th>9</th>\n",
       "      <td>NumberOfDependents</td>\n",
       "      <td>-0.003086</td>\n",
       "    </tr>\n",
       "  </tbody>\n",
       "</table>\n",
       "</div>"
      ],
      "text/plain": [
       "                                Feature  Coefficient\n",
       "0  RevolvingUtilizationOfUnsecuredLines     1.343918\n",
       "1                                   age    -0.028888\n",
       "2  NumberOfTime30-59DaysPastDueNotWorse     0.443853\n",
       "3                             DebtRatio    -0.000522\n",
       "4                         MonthlyIncome    -0.000041\n",
       "5       NumberOfOpenCreditLinesAndLoans     0.016817\n",
       "6               NumberOfTimes90DaysLate     0.720687\n",
       "7          NumberRealEstateLoansOrLines     0.131350\n",
       "8  NumberOfTime60-89DaysPastDueNotWorse     0.593074\n",
       "9                    NumberOfDependents    -0.003086"
      ]
     },
     "execution_count": 3,
     "metadata": {},
     "output_type": "execute_result"
    }
   ],
   "source": [
    "from sklearn.linear_model import LogisticRegression\n",
    "\n",
    "clf = LogisticRegression(penalty='l2', C=1.0, solver='liblinear')\n",
    "clf = clf.fit(X_tr, y_tr)\n",
    "\n",
    "print('Accuracy: {:.2%}'.format(clf.score(X_ts, y_ts)))\n",
    "pd.DataFrame([[f, w] for f, w in zip(D.feature_names, clf.coef_[0])], columns=['Feature', 'Coefficient'])"
   ]
  },
  {
   "cell_type": "markdown",
   "metadata": {},
   "source": [
    "## 2. Recourse Action before Missing"
   ]
  },
  {
   "cell_type": "code",
   "execution_count": 4,
   "metadata": {},
   "outputs": [
    {
     "data": {
      "text/html": [
       "<div>\n",
       "<style scoped>\n",
       "    .dataframe tbody tr th:only-of-type {\n",
       "        vertical-align: middle;\n",
       "    }\n",
       "\n",
       "    .dataframe tbody tr th {\n",
       "        vertical-align: top;\n",
       "    }\n",
       "\n",
       "    .dataframe thead th {\n",
       "        text-align: right;\n",
       "    }\n",
       "</style>\n",
       "<table border=\"1\" class=\"dataframe\">\n",
       "  <thead>\n",
       "    <tr style=\"text-align: right;\">\n",
       "      <th></th>\n",
       "      <th>Before Missing</th>\n",
       "      <th>Coefficient</th>\n",
       "    </tr>\n",
       "  </thead>\n",
       "  <tbody>\n",
       "    <tr>\n",
       "      <th>RevolvingUtilizationOfUnsecuredLines</th>\n",
       "      <td>0.342003</td>\n",
       "      <td>1.343918</td>\n",
       "    </tr>\n",
       "    <tr>\n",
       "      <th>age</th>\n",
       "      <td>70.000000</td>\n",
       "      <td>-0.028888</td>\n",
       "    </tr>\n",
       "    <tr>\n",
       "      <th>NumberOfTime30-59DaysPastDueNotWorse</th>\n",
       "      <td>1.000000</td>\n",
       "      <td>0.443853</td>\n",
       "    </tr>\n",
       "    <tr>\n",
       "      <th>DebtRatio</th>\n",
       "      <td>0.489300</td>\n",
       "      <td>-0.000522</td>\n",
       "    </tr>\n",
       "    <tr>\n",
       "      <th>MonthlyIncome</th>\n",
       "      <td>2756.000000</td>\n",
       "      <td>-0.000041</td>\n",
       "    </tr>\n",
       "    <tr>\n",
       "      <th>NumberOfOpenCreditLinesAndLoans</th>\n",
       "      <td>6.000000</td>\n",
       "      <td>0.016817</td>\n",
       "    </tr>\n",
       "    <tr>\n",
       "      <th>NumberOfTimes90DaysLate</th>\n",
       "      <td>5.000000</td>\n",
       "      <td>0.720687</td>\n",
       "    </tr>\n",
       "    <tr>\n",
       "      <th>NumberRealEstateLoansOrLines</th>\n",
       "      <td>0.000000</td>\n",
       "      <td>0.131350</td>\n",
       "    </tr>\n",
       "    <tr>\n",
       "      <th>NumberOfTime60-89DaysPastDueNotWorse</th>\n",
       "      <td>0.000000</td>\n",
       "      <td>0.593074</td>\n",
       "    </tr>\n",
       "    <tr>\n",
       "      <th>NumberOfDependents</th>\n",
       "      <td>0.000000</td>\n",
       "      <td>-0.003086</td>\n",
       "    </tr>\n",
       "  </tbody>\n",
       "</table>\n",
       "</div>"
      ],
      "text/plain": [
       "                                      Before Missing  Coefficient\n",
       "RevolvingUtilizationOfUnsecuredLines        0.342003     1.343918\n",
       "age                                        70.000000    -0.028888\n",
       "NumberOfTime30-59DaysPastDueNotWorse        1.000000     0.443853\n",
       "DebtRatio                                   0.489300    -0.000522\n",
       "MonthlyIncome                            2756.000000    -0.000041\n",
       "NumberOfOpenCreditLinesAndLoans             6.000000     0.016817\n",
       "NumberOfTimes90DaysLate                     5.000000     0.720687\n",
       "NumberRealEstateLoansOrLines                0.000000     0.131350\n",
       "NumberOfTime60-89DaysPastDueNotWorse        0.000000     0.593074\n",
       "NumberOfDependents                          0.000000    -0.003086"
      ]
     },
     "execution_count": 4,
     "metadata": {},
     "output_type": "execute_result"
    }
   ],
   "source": [
    "X_old = X_ts[X_ts[:, 1] > np.median(X_tr[:, 1])]\n",
    "X_target = X_old[clf.predict(X_old)==1]\n",
    "\n",
    "n = 10\n",
    "pd.DataFrame([X_target[n], clf.coef_[0]], columns=D.feature_names, index=['Before Missing', 'Coefficient']).T"
   ]
  },
  {
   "cell_type": "code",
   "execution_count": 5,
   "metadata": {},
   "outputs": [
    {
     "name": "stdout",
     "output_type": "stream",
     "text": [
      "* Action (SeriousDlqin2yrs: Yes -> No):\n",
      "\t* RevolvingUtilizationOfUnsecuredLines: 0.3420 -> 0.1942 (-0.1478)\n",
      "* Scores: \n",
      "\t* feasible: True\n",
      "\t* valid: True\n",
      "\t* cost: 0.39621847\n",
      "\t* probability: {'No': 0.5008386061943159, 'Yes': 0.49916139380568414}\n",
      "\t* time: 0.02503800\n",
      "\n"
     ]
    }
   ],
   "source": [
    "from armin import AlgorithmicRecourseExplainer\n",
    "\n",
    "ar = AlgorithmicRecourseExplainer(clf, X_tr, y_tr, **D.params, quantile=(0.01, 0.99))\n",
    "action = ar.extract(X_target[n])\n",
    "print(ar.getActionObject(action))"
   ]
  },
  {
   "cell_type": "markdown",
   "metadata": {},
   "source": [
    "## 3. Recourse Action after Missing"
   ]
  },
  {
   "cell_type": "code",
   "execution_count": 6,
   "metadata": {},
   "outputs": [
    {
     "data": {
      "text/html": [
       "<div>\n",
       "<style scoped>\n",
       "    .dataframe tbody tr th:only-of-type {\n",
       "        vertical-align: middle;\n",
       "    }\n",
       "\n",
       "    .dataframe tbody tr th {\n",
       "        vertical-align: top;\n",
       "    }\n",
       "\n",
       "    .dataframe thead th {\n",
       "        text-align: right;\n",
       "    }\n",
       "</style>\n",
       "<table border=\"1\" class=\"dataframe\">\n",
       "  <thead>\n",
       "    <tr style=\"text-align: right;\">\n",
       "      <th></th>\n",
       "      <th>Before Missing</th>\n",
       "      <th>After Missing</th>\n",
       "      <th>Coefficient</th>\n",
       "    </tr>\n",
       "  </thead>\n",
       "  <tbody>\n",
       "    <tr>\n",
       "      <th>RevolvingUtilizationOfUnsecuredLines</th>\n",
       "      <td>0.342003</td>\n",
       "      <td>0.342003</td>\n",
       "      <td>1.343918</td>\n",
       "    </tr>\n",
       "    <tr>\n",
       "      <th>age</th>\n",
       "      <td>70.000000</td>\n",
       "      <td>70.000000</td>\n",
       "      <td>-0.028888</td>\n",
       "    </tr>\n",
       "    <tr>\n",
       "      <th>NumberOfTime30-59DaysPastDueNotWorse</th>\n",
       "      <td>1.000000</td>\n",
       "      <td>1.000000</td>\n",
       "      <td>0.443853</td>\n",
       "    </tr>\n",
       "    <tr>\n",
       "      <th>DebtRatio</th>\n",
       "      <td>0.489300</td>\n",
       "      <td>0.489300</td>\n",
       "      <td>-0.000522</td>\n",
       "    </tr>\n",
       "    <tr>\n",
       "      <th>MonthlyIncome</th>\n",
       "      <td>2756.000000</td>\n",
       "      <td>NaN</td>\n",
       "      <td>-0.000041</td>\n",
       "    </tr>\n",
       "    <tr>\n",
       "      <th>NumberOfOpenCreditLinesAndLoans</th>\n",
       "      <td>6.000000</td>\n",
       "      <td>6.000000</td>\n",
       "      <td>0.016817</td>\n",
       "    </tr>\n",
       "    <tr>\n",
       "      <th>NumberOfTimes90DaysLate</th>\n",
       "      <td>5.000000</td>\n",
       "      <td>5.000000</td>\n",
       "      <td>0.720687</td>\n",
       "    </tr>\n",
       "    <tr>\n",
       "      <th>NumberRealEstateLoansOrLines</th>\n",
       "      <td>0.000000</td>\n",
       "      <td>0.000000</td>\n",
       "      <td>0.131350</td>\n",
       "    </tr>\n",
       "    <tr>\n",
       "      <th>NumberOfTime60-89DaysPastDueNotWorse</th>\n",
       "      <td>0.000000</td>\n",
       "      <td>0.000000</td>\n",
       "      <td>0.593074</td>\n",
       "    </tr>\n",
       "    <tr>\n",
       "      <th>NumberOfDependents</th>\n",
       "      <td>0.000000</td>\n",
       "      <td>0.000000</td>\n",
       "      <td>-0.003086</td>\n",
       "    </tr>\n",
       "  </tbody>\n",
       "</table>\n",
       "</div>"
      ],
      "text/plain": [
       "                                      Before Missing  After Missing  \\\n",
       "RevolvingUtilizationOfUnsecuredLines        0.342003       0.342003   \n",
       "age                                        70.000000      70.000000   \n",
       "NumberOfTime30-59DaysPastDueNotWorse        1.000000       1.000000   \n",
       "DebtRatio                                   0.489300       0.489300   \n",
       "MonthlyIncome                            2756.000000            NaN   \n",
       "NumberOfOpenCreditLinesAndLoans             6.000000       6.000000   \n",
       "NumberOfTimes90DaysLate                     5.000000       5.000000   \n",
       "NumberRealEstateLoansOrLines                0.000000       0.000000   \n",
       "NumberOfTime60-89DaysPastDueNotWorse        0.000000       0.000000   \n",
       "NumberOfDependents                          0.000000       0.000000   \n",
       "\n",
       "                                      Coefficient  \n",
       "RevolvingUtilizationOfUnsecuredLines     1.343918  \n",
       "age                                     -0.028888  \n",
       "NumberOfTime30-59DaysPastDueNotWorse     0.443853  \n",
       "DebtRatio                               -0.000522  \n",
       "MonthlyIncome                           -0.000041  \n",
       "NumberOfOpenCreditLinesAndLoans          0.016817  \n",
       "NumberOfTimes90DaysLate                  0.720687  \n",
       "NumberRealEstateLoansOrLines             0.131350  \n",
       "NumberOfTime60-89DaysPastDueNotWorse     0.593074  \n",
       "NumberOfDependents                      -0.003086  "
      ]
     },
     "execution_count": 6,
     "metadata": {},
     "output_type": "execute_result"
    }
   ],
   "source": [
    "from armin.missing_helper import MissingGenerator\n",
    "\n",
    "mg = MissingGenerator(feature_types=D.feature_types, feature_categories=D.feature_categories)\n",
    "X_missing = mg.mask_instances(X_target, n_missing=1, m_=[4])\n",
    "\n",
    "pd.DataFrame([X_target[n], X_missing[n], clf.coef_[0]], columns=D.feature_names, index=['Before Missing', 'After Missing', 'Coefficient']).T"
   ]
  },
  {
   "cell_type": "markdown",
   "metadata": {},
   "source": [
    "### [Baseline 1] Algorithmic Recourse with Single Imputation"
   ]
  },
  {
   "cell_type": "code",
   "execution_count": 7,
   "metadata": {},
   "outputs": [],
   "source": [
    "from armin.missing_helper import SingleImputer\n",
    "\n",
    "si = SingleImputer(imputer_type='mean', feature_types=D.feature_types, feature_categories=D.feature_categories)\n",
    "si = si.fit(X_tr)"
   ]
  },
  {
   "cell_type": "code",
   "execution_count": 8,
   "metadata": {},
   "outputs": [
    {
     "name": "stdout",
     "output_type": "stream",
     "text": [
      "* Action (SeriousDlqin2yrs: Yes -> Yes):\n",
      "\t* RevolvingUtilizationOfUnsecuredLines: 0.3420 -> 0.3129 (-0.0291)\n",
      "* Scores: \n",
      "\t* feasible: True\n",
      "\t* valid: False\n",
      "\t* cost: 0.07504983\n",
      "\t* probability: {'No': 0.46103554029117555, 'Yes': 0.5389644597088245}\n",
      "\t* time: 0.00730801\n",
      "\n"
     ]
    }
   ],
   "source": [
    "from armin.baselines import ImputationAlgorithmicRecourseExplainer\n",
    "\n",
    "iar = ImputationAlgorithmicRecourseExplainer(clf, si, X_tr, y_tr, **D.params, quantile=(0.01, 0.99))\n",
    "action = iar.extract(X_missing[n])\n",
    "action = iar.updateActionDicts(X_target[n], action)\n",
    "print(iar.getActionObject(action))"
   ]
  },
  {
   "cell_type": "markdown",
   "metadata": {},
   "source": [
    "### [Baseline 2] Robust Algorithmic Recourse"
   ]
  },
  {
   "cell_type": "code",
   "execution_count": 9,
   "metadata": {},
   "outputs": [],
   "source": [
    "from armin.missing_helper import MultipleImputer\n",
    "\n",
    "mi = MultipleImputer(n_sampling=100, imputer_type='mice', feature_types=D.feature_types, feature_categories=D.feature_categories)\n",
    "mi = mi.fit(X_tr)"
   ]
  },
  {
   "cell_type": "code",
   "execution_count": 10,
   "metadata": {},
   "outputs": [
    {
     "name": "stdout",
     "output_type": "stream",
     "text": [
      "* Action (SeriousDlqin2yrs: Yes -> No):\n",
      "\t* NumberOfTimes90DaysLate: 5 -> 2 (-3)\n",
      "* Scores: \n",
      "\t* feasible: True\n",
      "\t* valid: True\n",
      "\t* cost: 3.00939191\n",
      "\t* probability: {'No': 0.8772709375477947, 'Yes': 0.12272906245220527}\n",
      "\t* time: 0.53247452\n",
      "\n"
     ]
    }
   ],
   "source": [
    "from armin.baselines import RobustAlgorithmicRecourseExplainer\n",
    "\n",
    "rar = RobustAlgorithmicRecourseExplainer(clf, mi, X_tr, y_tr, **D.params, quantile=(0.01, 0.99))\n",
    "action = rar.extract(X_missing[n])\n",
    "action = rar.updateActionDicts(X_target[n], action)\n",
    "print(rar.getActionObject(action))"
   ]
  },
  {
   "cell_type": "markdown",
   "metadata": {},
   "source": [
    "### [Our Proposal] Algorithmic Recourse with Multiple Imputation (ARMIN)"
   ]
  },
  {
   "cell_type": "code",
   "execution_count": 11,
   "metadata": {},
   "outputs": [
    {
     "name": "stdout",
     "output_type": "stream",
     "text": [
      "* Action (SeriousDlqin2yrs: Yes -> No):\n",
      "\t* RevolvingUtilizationOfUnsecuredLines: 0.3420 -> 0.1727 (-0.1693)\n",
      "* Scores: \n",
      "\t* feasible: True\n",
      "\t* valid: True\n",
      "\t* cost: 0.46061047\n",
      "\t* probability: {'No': 0.5080892158929953, 'Yes': 0.4919107841070048}\n",
      "\t* time: 0.02667999\n",
      "\n"
     ]
    }
   ],
   "source": [
    "from armin import ArminExplainer\n",
    "\n",
    "armin = ArminExplainer(clf, mi, X_tr, y_tr, **D.params, quantile=(0.01, 0.99))\n",
    "action = armin.extract(X_missing[n])\n",
    "action = armin.updateActionDicts(X_target[n], action)\n",
    "print(armin.getActionObject(action))"
   ]
  },
  {
   "cell_type": "markdown",
   "metadata": {},
   "source": [
    "## 4. Confidence Path (Optional)"
   ]
  },
  {
   "cell_type": "code",
   "execution_count": 12,
   "metadata": {},
   "outputs": [
    {
     "data": {
      "image/png": "[encoded data removed]",
      "text/plain": [
       "<Figure size 640x480 with 1 Axes>"
      ]
     },
     "metadata": {},
     "output_type": "display_data"
    }
   ],
   "source": [
    "path = armin.confidence_path(X_missing[n])\n",
    "\n",
    "rhos = []\n",
    "costs = []\n",
    "valids = []\n",
    "for (rho, action) in path:\n",
    "    action = armin.updateActionDicts(X_target[n], action)\n",
    "    rhos.append(rho)\n",
    "    costs.append(action['cost'])\n",
    "    valids.append(action['valid'])\n",
    "rhos = np.array(rhos)\n",
    "costs = np.array(costs)\n",
    "valids = np.array(valids)\n",
    "\n",
    "plt.plot(rhos, costs, c='gray', linestyle='dashed')\n",
    "plt.scatter(rhos[valids], costs[valids], c='blue', label='Valid for Original Instance', s=100, marker='o')\n",
    "plt.scatter(rhos[~valids], costs[~valids], c='red', label='Invalid for Original Instance', s=100, marker='x')\n",
    "plt.title('Confidence Path')\n",
    "plt.xlabel('Confidence Parameter')\n",
    "plt.ylabel('Cost')\n",
    "plt.legend()\n",
    "plt.grid()\n",
    "plt.tight_layout()"
   ]
  }
 ],
 "metadata": {
  "kernelspec": {
   "display_name": "Python 3",
   "language": "python",
   "name": "python3"
  },
  "language_info": {
   "codemirror_mode": {
    "name": "ipython",
    "version": 3
   },
   "file_extension": ".py",
   "mimetype": "text/x-python",
   "name": "python",
   "nbconvert_exporter": "python",
   "pygments_lexer": "ipython3",
   "version": "3.10.4"
  }
 },
 "nbformat": 4,
 "nbformat_minor": 2
}
